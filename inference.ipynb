{
 "cells": [
  {
   "cell_type": "code",
   "execution_count": 2,
   "metadata": {},
   "outputs": [],
   "source": [
    "target = \"MSU-MFSD\" # change to argument\n",
    "from torch.utils.data import Dataset, DataLoader\n",
    "from methods import *"
   ]
  },
  {
   "cell_type": "code",
   "execution_count": null,
   "metadata": {},
   "outputs": [],
   "source": [
    "def test_resnet(args, model_size, model_path):\n",
    "    device = torch.device(\"cuda\" if torch.cuda.is_available() else \"cpu\")\n",
    "    \n",
    "    if model_size == 'resnet18':\n",
    "        model = models.resnet18()\n",
    "    elif model_size == 'resnet50':\n",
    "        model = models.resnet50()\n",
    "    elif model_size == 'resnet101':\n",
    "        model = models.resnet101()\n",
    "        \n",
    "    num_ftrs = model.fc.in_features\n",
    "    model.fc = nn.Sequential(\n",
    "        nn.Linear(num_ftrs, 1),\n",
    "        nn.Sigmoid()\n",
    "    )\n",
    "    \n",
    "    model.load_state_dict(torch.load(model_path))\n",
    "    \n",
    "    model = model.to(device)\n",
    "    \n",
    "    test_transform = transforms()['test']\n",
    "\n",
    "    test_set = get_datasets(args.data_dir, FaceDataset, train=False, target=args.target, transform=test_transform, model_name='resnet')\n",
    "    test_loader = DataLoader(test_set[args.target], batch_size=args.batch_size, shuffle=False, num_workers=4)\n",
    "    \n",
    "    criterion = nn.BCELoss()\n",
    "    \n",
    "    test_loss, auc, hter, apcer, bpcer = compute_metrics(model, test_loader, criterion, device)  \n",
    "    \n",
    "    print(f\"Test on {args.target}\\nAUC: {auc:.5f}\\n  HTER: {hter:.5f}\\n  APCER: {apcer:.5f}\\n  BPCER: {bpcer:.5f}\")"
   ]
  },
  {
   "cell_type": "code",
   "execution_count": null,
   "metadata": {},
   "outputs": [],
   "source": [
    "if args.method.startswith('resnet'):\n",
    "    test_resnet(args, model_size=args.method, model_path=args.model_path)\n",
    "elif args.method == 'safas':\n",
    "    test_safas(args, model_path=args.model_path)"
   ]
  }
 ],
 "metadata": {
  "kernelspec": {
   "display_name": "safas",
   "language": "python",
   "name": "python3"
  },
  "language_info": {
   "codemirror_mode": {
    "name": "ipython",
    "version": 3
   },
   "file_extension": ".py",
   "mimetype": "text/x-python",
   "name": "python",
   "nbconvert_exporter": "python",
   "pygments_lexer": "ipython3",
   "version": "3.10.14"
  }
 },
 "nbformat": 4,
 "nbformat_minor": 2
}
